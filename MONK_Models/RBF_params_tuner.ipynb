{
 "cells": [
  {
   "cell_type": "code",
   "execution_count": 1,
   "id": "92e1041d-9598-4978-8957-dfb89986d37d",
   "metadata": {},
   "outputs": [],
   "source": [
    "import pandas as pd\n",
    "\n",
    "from load_monk import splitted_monk_data\n",
    "from build_rbf_tuning import rbf_tuning\n",
    "from plotting_monk import plot_history"
   ]
  },
  {
   "cell_type": "code",
   "execution_count": 2,
   "id": "444e11bf-957e-41dd-85df-50758ee0b9d5",
   "metadata": {},
   "outputs": [
    {
     "ename": "NameError",
     "evalue": "name 'build_rbf_model_tuner' is not defined",
     "output_type": "error",
     "traceback": [
      "\u001b[0;31m---------------------------------------------------------------------------\u001b[0m",
      "\u001b[0;31mNameError\u001b[0m                                 Traceback (most recent call last)",
      "Cell \u001b[0;32mIn[2], line 3\u001b[0m\n\u001b[1;32m      1\u001b[0m X_train, y_train, X_val, y_val, X_test, y_test \u001b[38;5;241m=\u001b[39m splitted_monk_data(\u001b[38;5;124m\"\u001b[39m\u001b[38;5;124mmonks-1\u001b[39m\u001b[38;5;124m\"\u001b[39m)\n\u001b[0;32m----> 3\u001b[0m history, best_hp \u001b[38;5;241m=\u001b[39m rbf_tuning(X_train, y_train, X_val, y_val, X_test, y_test)\n\u001b[1;32m      5\u001b[0m plot_history(history)\n\u001b[1;32m      7\u001b[0m \u001b[38;5;28mprint\u001b[39m(\u001b[38;5;124mf\u001b[39m\u001b[38;5;124m\"\u001b[39m\u001b[38;5;124mBest hyperparameters: \u001b[39m\u001b[38;5;132;01m{\u001b[39;00mbest_hp\u001b[38;5;132;01m}\u001b[39;00m\u001b[38;5;124m\"\u001b[39m)\n",
      "File \u001b[0;32m~/UniProjects/ML/RaRi-first/MONK_Models/build_rbf_tuning.py:87\u001b[0m, in \u001b[0;36mrbf_tuning\u001b[0;34m(X_train, y_train, X_val, y_val, X_test, y_test)\u001b[0m\n\u001b[1;32m     83\u001b[0m \u001b[38;5;66;03m# Use a temporary directory\u001b[39;00m\n\u001b[1;32m     84\u001b[0m temp_dir \u001b[38;5;241m=\u001b[39m tempfile\u001b[38;5;241m.\u001b[39mmkdtemp()\n\u001b[1;32m     86\u001b[0m tuner \u001b[38;5;241m=\u001b[39m kt\u001b[38;5;241m.\u001b[39mHyperband(\n\u001b[0;32m---> 87\u001b[0m     build_rbf_model_tuner,\n\u001b[1;32m     88\u001b[0m     objective\u001b[38;5;241m=\u001b[39m\u001b[38;5;124m'\u001b[39m\u001b[38;5;124maccuracy\u001b[39m\u001b[38;5;124m'\u001b[39m,\n\u001b[1;32m     89\u001b[0m     max_epochs\u001b[38;5;241m=\u001b[39m\u001b[38;5;241m100\u001b[39m,\n\u001b[1;32m     90\u001b[0m     factor\u001b[38;5;241m=\u001b[39m\u001b[38;5;241m3\u001b[39m,\n\u001b[1;32m     91\u001b[0m     overwrite\u001b[38;5;241m=\u001b[39m\u001b[38;5;28;01mTrue\u001b[39;00m,\n\u001b[1;32m     92\u001b[0m     directory\u001b[38;5;241m=\u001b[39mtemp_dir\n\u001b[1;32m     93\u001b[0m )\n\u001b[1;32m     95\u001b[0m \u001b[38;5;66;03m# Search for the best hyperparameters\u001b[39;00m\n\u001b[1;32m     96\u001b[0m tuner\u001b[38;5;241m.\u001b[39msearch(\n\u001b[1;32m     97\u001b[0m     X_train, y_train,\n\u001b[1;32m     98\u001b[0m     epochs\u001b[38;5;241m=\u001b[39m\u001b[38;5;241m100\u001b[39m,\n\u001b[1;32m     99\u001b[0m     validation_data\u001b[38;5;241m=\u001b[39m(X_val, y_val)\n\u001b[1;32m    100\u001b[0m )\n",
      "\u001b[0;31mNameError\u001b[0m: name 'build_rbf_model_tuner' is not defined"
     ]
    }
   ],
   "source": [
    "X_train, y_train, X_val, y_val, X_test, y_test = splitted_monk_data(\"monks-1\")\n",
    "\n",
    "history, best_hp = rbf_tuning(X_train, y_train, X_val, y_val, X_test, y_test)\n",
    "\n",
    "plot_history(history)\n",
    "\n",
    "print(f\"Best hyperparameters: {best_hp}\")"
   ]
  },
  {
   "cell_type": "markdown",
   "id": "38938cea",
   "metadata": {},
   "source": [
    "### Bigggg Search\n",
    "\n",
    "'n_centers': 150, 'gamma': 0.22000000000000003, 'learning_rate': 0.22, 'batch_size': 60 -> Training Accuracy: 0.8787878751754761\n",
    "\n",
    "'n_centers': 145, 'gamma': 0.155, 'learning_rate': 0.09, 'batch_size': 55 -> Training Accuracy: 0.8787878751754761\n"
   ]
  },
  {
   "cell_type": "markdown",
   "id": "9507f4a6",
   "metadata": {},
   "source": [
    "### New trying maximizing accuracy v2\n",
    "\n",
    "Training Accuracy: 0.8585858345031738\n",
    "Validation Accuracy: 0.9599999785423279\n",
    "Training MSE: 0.15303070843219757\n",
    "Validation MSE: 0.12301887571811676\n",
    "Best hyperparameters: {'n_centers': 145, 'gamma': 0.145, 'learning_rate': 0.052, 'batch_size': 69\n",
    "\n",
    "Training Accuracy: 0.8585858345031738\n",
    "Validation Accuracy: 0.9599999785423279\n",
    "Training MSE: 0.1438722312450409\n",
    "Validation MSE: 0.11080452799797058\n",
    "Best hyperparameters: {'n_centers': 174, 'gamma': 0.1363, 'learning_rate': 0.049, 'batch_size': 67\n",
    "\n",
    "#### good\n",
    "Training Accuracy: 0.8585858345031738\n",
    "Validation Accuracy: 0.9200000166893005\n",
    "Training MSE: 0.14224010705947876\n",
    "Validation MSE: 0.11763554811477661\n",
    "Best hyperparameters: {'n_centers': 151, 'gamma': 0.14425, 'learning_rate': 0.0477, 'batch_size': 62\n",
    "\n",
    "Training Accuracy: 0.8585858345031738\n",
    "Validation Accuracy: 0.9599999785423279\n",
    "Training MSE: 0.1533425748348236\n",
    "Validation MSE: 0.12367246299982071\n",
    "Best hyperparameters: {'n_centers': 129, 'gamma': 0.14500000000000002, 'learning_rate': 0.041, 'batch_size': 60\n",
    "\n",
    "Training Accuracy: 0.868686854839325\n",
    "Validation Accuracy: 1.0\n",
    "Training MSE: 0.14147953689098358\n",
    "Validation MSE: 0.09513404220342636\n",
    "Best hyperparameters: {'n_centers': 131, 'gamma': 0.14200000000000002, 'learning_rate': 0.057999999999999996, 'batch_size': 53\n",
    "\n",
    "Training Accuracy: 0.8787878751754761\n",
    "Validation Accuracy: 0.9599999785423279\n",
    "Training MSE: 0.13042767345905304\n",
    "Validation MSE: 0.11020404100418091\n",
    "Best hyperparameters: {'n_centers': 126, 'gamma': 0.14700000000000002, 'learning_rate': 0.064, 'batch_size': 55"
   ]
  },
  {
   "cell_type": "markdown",
   "id": "68674d61",
   "metadata": {},
   "source": [
    "### Trying maximizing accuracy\n",
    "\n",
    "Training Accuracy: 0.7070707082748413\n",
    "Validation Accuracy: 0.7200000286102295\n",
    "Training MSE: 0.19278663396835327\n",
    "Validation MSE: 0.20547151565551758\n",
    "Best hyperparameters: {'n_centers': 85, 'gamma': 0.14, 'learning_rate': 0.009000000000000001, 'batch_size': 55}\n",
    "\n",
    "Training Accuracy: 0.7575757503509521\n",
    "Validation Accuracy: 0.800000011920929\n",
    "Training MSE: 0.1763657033443451\n",
    "Validation MSE: 0.16912826895713806\n",
    "Best hyperparameters: {'n_centers': 100, 'gamma': 0.11, 'learning_rate': 0.009000000000000001, 'batch_size': 25}\n",
    "\n",
    "Training Accuracy: 0.8484848737716675\n",
    "Validation Accuracy: 1.0\n",
    "Training MSE: 0.15711918473243713\n",
    "Validation MSE: 0.10543814301490784\n",
    "Best hyperparameters: {'n_centers': 118, 'gamma': 0.16, 'learning_rate': 0.0408, 'batch_size': 32}\n",
    "\n",
    "Training Accuracy: 0.8484848737716675\n",
    "Validation Accuracy: 0.9599999785423279\n",
    "Training MSE: 0.1508813351392746\n",
    "Validation MSE: 0.12638802826404572\n",
    "Best hyperparameters: {'n_centers': 104, 'gamma': 0.08, 'learning_rate': 0.0432, 'batch_size': 62}"
   ]
  },
  {
   "cell_type": "markdown",
   "id": "e733908e",
   "metadata": {},
   "source": [
    "### Trying minimizing val_mse\n",
    "\n",
    "Training Accuracy: 0.8484848737716675\n",
    "Validation Accuracy: 0.9599999785423279\n",
    "Training MSE: 0.14927402138710022\n",
    "Validation MSE: 0.12278355658054352\n",
    "Best hyperparameters: {'n_centers': 115, 'gamma': 0.16, 'learning_rate': 0.082, 'batch_size': 32\n",
    "\n",
    "Training Accuracy: 0.868686854839325\n",
    "Validation Accuracy: 1.0\n",
    "Training MSE: 0.1584153026342392\n",
    "Validation MSE: 0.1025794968008995\n",
    "Best hyperparameters: {'n_centers': 134, 'gamma': 0.14500000000000002, 'learning_rate': 0.069, 'batch_size': 59}\n",
    "\n",
    "Training Accuracy: 0.8181818127632141\n",
    "Validation Accuracy: 0.9599999785423279\n",
    "Training MSE: 0.14489445090293884\n",
    "Validation MSE: 0.09725900739431381\n",
    "Best hyperparameters: {'n_centers': 165, 'gamma': 0.1385, 'learning_rate': 0.045, 'batch_size': 37}"
   ]
  },
  {
   "cell_type": "markdown",
   "id": "dd4d7f49",
   "metadata": {},
   "source": []
  }
 ],
 "metadata": {
  "kernelspec": {
   "display_name": "base",
   "language": "python",
   "name": "python3"
  },
  "language_info": {
   "codemirror_mode": {
    "name": "ipython",
    "version": 3
   },
   "file_extension": ".py",
   "mimetype": "text/x-python",
   "name": "python",
   "nbconvert_exporter": "python",
   "pygments_lexer": "ipython3",
   "version": "3.12.4"
  }
 },
 "nbformat": 4,
 "nbformat_minor": 5
}
